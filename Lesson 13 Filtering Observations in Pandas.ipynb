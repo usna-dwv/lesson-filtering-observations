{
 "cells": [
  {
   "cell_type": "markdown",
   "metadata": {},
   "source": [
    "**SA433 &#x25aa; Data Wrangling and Visualization &#x25aa; Fall 2024**"
   ]
  },
  {
   "cell_type": "markdown",
   "metadata": {},
   "source": [
    "# Lesson 13. Filtering Observations in Pandas"
   ]
  },
  {
   "cell_type": "markdown",
   "metadata": {},
   "source": [
    "## Overview"
   ]
  },
  {
   "cell_type": "markdown",
   "metadata": {},
   "source": [
    "- Over the next several lessons, we'll learn how to perform 5 fundamental data wrangling tasks with tabular data:\n",
    "\n",
    "    1. Filter rows by their values\n",
    "    2. Sort the rows\n",
    "    3. Select and drop columns\n",
    "    4. Create new columns with functions of existing columns\n",
    "    5. Collapse many values down to a summary"
   ]
  },
  {
   "cell_type": "markdown",
   "metadata": {},
   "source": [
    "- These 5 tasks combined will allow us to solve a majority of our data wrangling challenges"
   ]
  },
  {
   "cell_type": "markdown",
   "metadata": {},
   "source": [
    "## In this lesson..."
   ]
  },
  {
   "cell_type": "markdown",
   "metadata": {},
   "source": [
    "- How do we filter, or pick rows, based on their values?\n",
    "\n",
    "\n",
    "- An aside: how are missing values represented in Pandas?"
   ]
  },
  {
   "cell_type": "markdown",
   "metadata": {},
   "source": [
    "<hr style=\"border-top: 2px solid gray; margin-top: 1px; margin-bottom: 1px\"></hr>"
   ]
  },
  {
   "cell_type": "markdown",
   "metadata": {},
   "source": [
    "## The nycflights13 dataset"
   ]
  },
  {
   "cell_type": "markdown",
   "metadata": {},
   "source": [
    "- Let's begin by importing Pandas"
   ]
  },
  {
   "cell_type": "code",
   "execution_count": null,
   "metadata": {},
   "outputs": [],
   "source": [
    "import pandas as pd"
   ]
  },
  {
   "cell_type": "markdown",
   "metadata": {},
   "source": [
    "- In the same folder as this notebook is a file `data/nycflights13_flights.csv.zip`\n",
    "    - This is a ZIP file containing a single CSV file\n",
    "    - ZIP files not only package multiple files together, they also compress their contents to save disk space"
   ]
  },
  {
   "cell_type": "markdown",
   "metadata": {},
   "source": [
    "- In this case, there's no need to extract the CSV file: `pd.read_csv()` can read ZIPped CSV files directly:"
   ]
  },
  {
   "cell_type": "code",
   "execution_count": null,
   "metadata": {},
   "outputs": [],
   "source": [
    "df = pd.read_csv('data/nycflights13_flights.csv.zip')"
   ]
  },
  {
   "cell_type": "markdown",
   "metadata": {},
   "source": [
    "- This dataset, based on data from the [US Bureau of Transportation Statistics](https://www.transtats.bts.gov/), contains information about all 336,776 flights that departed from New York City in 2013\n",
    "\n",
    "\n",
    "- Each row corresponds to one flight, and contains the following data:\n",
    "\n",
    "| Column | Description |\n",
    "| :- | :- |\n",
    "| `year`, `month`, `day` | Date of departure |\n",
    "| `dep_time`, `arr_time` | Actual departure and arrival times (format HHMM or HMM), local timezone |\n",
    "| `sched_dep_time`, `sched_arr_time` | Scheduled departure and arrival times (format HHMM or HMM), local timezone |\n",
    "| `dep_delay`, `arr_delay` | Departure and arrival delays, in minutes; negative times represent early departures/arrivals |\n",
    "| `carrier` | Two letter carrier abbreviation |\n",
    "| `flight` | Flight number |\n",
    "| `tailnum` | Plane tail number |\n",
    "| `origin`, `dest` | Origin and destination |\n",
    "| `air_time` | Amount of time spent in the air, in minutes |\n",
    "| `distance` | Distance between airports, in miles |\n",
    "| `hour`, `minute` | Time of scheduled departure broken into hour and minutes |\n",
    "| `time_hour` | Scheduled date and hour of the flight |\n",
    "\n",
    "\n",
    "\n",
    "- Let's take a quick look:"
   ]
  },
  {
   "cell_type": "code",
   "execution_count": null,
   "metadata": {},
   "outputs": [],
   "source": [
    "df.head()"
   ]
  },
  {
   "cell_type": "code",
   "execution_count": null,
   "metadata": {},
   "outputs": [],
   "source": [
    "df.info()"
   ]
  },
  {
   "cell_type": "markdown",
   "metadata": {},
   "source": [
    "<hr style=\"border-top: 2px solid gray; margin-top: 1px; margin-bottom: 1px\"></hr>"
   ]
  },
  {
   "cell_type": "markdown",
   "metadata": {},
   "source": [
    "## The query method"
   ]
  },
  {
   "cell_type": "markdown",
   "metadata": {},
   "source": [
    "- We can filter observations based on their values using the `.query()` method of a DataFrame\n",
    "\n",
    "\n",
    "- `.query()` takes a Python expression as a *string*, in which the variable names refer to the columns of the DataFrame\n",
    "\n",
    "\n",
    "- For example, we can select all flights operated by United Airlines (UA) with:"
   ]
  },
  {
   "cell_type": "code",
   "execution_count": null,
   "metadata": {},
   "outputs": [],
   "source": []
  },
  {
   "cell_type": "markdown",
   "metadata": {},
   "source": [
    "- Note that `df.query()` outputs another DataFrame: it doesn't remove the undesired observations from `df`\n",
    "\n",
    "\n",
    "- If you want to save the resulting DataFrame, you can assign it to another variable:"
   ]
  },
  {
   "cell_type": "code",
   "execution_count": null,
   "metadata": {},
   "outputs": [],
   "source": []
  },
  {
   "cell_type": "markdown",
   "metadata": {},
   "source": [
    "### Comparison operators"
   ]
  },
  {
   "cell_type": "markdown",
   "metadata": {},
   "source": [
    "- The standard Python comparison operators (i.e., `==`, `!=`, `>`, `<`, `>=`, `<=`) all work with `.query()`\n",
    "\n",
    "\n",
    "- For example, we can select all flights that spent more than 400 minutes in the air like this:"
   ]
  },
  {
   "cell_type": "code",
   "execution_count": null,
   "metadata": {},
   "outputs": [],
   "source": []
  },
  {
   "cell_type": "markdown",
   "metadata": {},
   "source": [
    "### Logical operators"
   ]
  },
  {
   "cell_type": "markdown",
   "metadata": {},
   "source": [
    "- The standard Python logical operators (i.e., `and`, `or`, `not`) also work with `.query()`\n",
    "\n",
    "\n",
    "- For example, we can select all flights on January 1 like this:"
   ]
  },
  {
   "cell_type": "code",
   "execution_count": null,
   "metadata": {},
   "outputs": [],
   "source": []
  },
  {
   "cell_type": "markdown",
   "metadata": {},
   "source": [
    "### Membership operators"
   ]
  },
  {
   "cell_type": "markdown",
   "metadata": {},
   "source": [
    "- The standard Python membership operators (i.e., `in`, `not in`) work with `.query()` as well\n",
    "\n",
    "\n",
    "- For example, we can select all flights headed to Atlanta (ATL), Chicago O'Hare (ORD), and Los Angeles (LAX) like this:"
   ]
  },
  {
   "cell_type": "code",
   "execution_count": null,
   "metadata": {},
   "outputs": [],
   "source": []
  },
  {
   "cell_type": "markdown",
   "metadata": {},
   "source": [
    "### Using Python variables"
   ]
  },
  {
   "cell_type": "markdown",
   "metadata": {},
   "source": [
    "- We can refer to variables in the Python environment by prefixing them with `@`\n",
    "\n",
    "\n",
    "- For example, we can rewrite the query above as follows:"
   ]
  },
  {
   "cell_type": "code",
   "execution_count": null,
   "metadata": {},
   "outputs": [],
   "source": []
  },
  {
   "cell_type": "markdown",
   "metadata": {},
   "source": [
    "### Column names with spaces"
   ]
  },
  {
   "cell_type": "markdown",
   "metadata": {},
   "source": [
    "- If one of the columns has a name with a space, we can refer to it by surrounding its name in backticks `` ` ``\n",
    "\n",
    "\n",
    "- For example, if we wanted to filter for rows whose values of columns `A` and `B B` are not equal, we could write:\n",
    "\n",
    "    ```python\n",
    "    df.query('A != `B B`')\n",
    "    ```"
   ]
  },
  {
   "cell_type": "markdown",
   "metadata": {},
   "source": [
    "<hr style=\"border-top: 2px solid gray; margin-top: 1px; margin-bottom: 1px\"></hr>"
   ]
  },
  {
   "cell_type": "markdown",
   "metadata": {},
   "source": [
    "## Missing values"
   ]
  },
  {
   "cell_type": "markdown",
   "metadata": {},
   "source": [
    "- Let's take a look at flight AA 133 on January 2:"
   ]
  },
  {
   "cell_type": "code",
   "execution_count": null,
   "metadata": {},
   "outputs": [],
   "source": []
  },
  {
   "cell_type": "markdown",
   "metadata": {},
   "source": [
    "- As we can see, many of the variables for this particular flight have a value of `NaN` (short for \"Not a Number\")\n",
    "\n",
    "\n",
    "- By default, `NaN` is how Pandas represents **missing values**: values that, for one reason or another, do not exist\n",
    "\n",
    "\n",
    "- We can pick rows whose columns have missing values with `.isna()`\n",
    "\n",
    "\n",
    "- For example, we can filter for the rows with missing tail numbers like this:"
   ]
  },
  {
   "cell_type": "code",
   "execution_count": null,
   "metadata": {},
   "outputs": [],
   "source": []
  },
  {
   "cell_type": "markdown",
   "metadata": {},
   "source": [
    "- *Note.* If you have the `numexpr` package installed in your Python environment, to use `.isna()` in `.query()`, you need to force `.query()` to use the `python` parser with the keyword argument `engine='python'`\n",
    "\n",
    "\n",
    "- Perhaps we want to filter for the rows that *do not* have missing tail numbers instead, which we can do like this:"
   ]
  },
  {
   "cell_type": "code",
   "execution_count": null,
   "metadata": {},
   "outputs": [],
   "source": []
  },
  {
   "cell_type": "markdown",
   "metadata": {},
   "source": [
    "- It turns out that in this case, we can also use the `.notna()` method, like this:"
   ]
  },
  {
   "cell_type": "code",
   "execution_count": null,
   "metadata": {},
   "outputs": [],
   "source": []
  },
  {
   "cell_type": "markdown",
   "metadata": {},
   "source": [
    "- We'll learn about ways to deal with missing values in a later lesson"
   ]
  },
  {
   "cell_type": "markdown",
   "metadata": {},
   "source": [
    "<hr style=\"border-top: 2px solid gray; margin-top: 1px; margin-bottom: 1px\"></hr>"
   ]
  },
  {
   "cell_type": "markdown",
   "metadata": {},
   "source": [
    "## Problems"
   ]
  },
  {
   "cell_type": "markdown",
   "metadata": {},
   "source": [
    "For the problems below, use the nycflights13 dataset we used in this lesson."
   ]
  },
  {
   "cell_type": "markdown",
   "metadata": {},
   "source": [
    "### Problem 1"
   ]
  },
  {
   "cell_type": "markdown",
   "metadata": {},
   "source": [
    "Find all flights that had an arrival delay of 2 or more hours."
   ]
  },
  {
   "cell_type": "code",
   "execution_count": null,
   "metadata": {},
   "outputs": [],
   "source": []
  },
  {
   "cell_type": "markdown",
   "metadata": {
    "tags": []
   },
   "source": [
    "### Problem 2"
   ]
  },
  {
   "cell_type": "markdown",
   "metadata": {
    "tags": []
   },
   "source": [
    "Find all flights that flew to Houston (IAH or HOU)."
   ]
  },
  {
   "cell_type": "code",
   "execution_count": null,
   "metadata": {},
   "outputs": [],
   "source": []
  },
  {
   "cell_type": "markdown",
   "metadata": {},
   "source": [
    "### Problem 3"
   ]
  },
  {
   "cell_type": "markdown",
   "metadata": {},
   "source": [
    "Find all flights that were operated by Southwest (WN), Frontier (F9), or Alaska (AS).\n",
    "If you didn't already in Problem 2, try using the `in` membership operator."
   ]
  },
  {
   "cell_type": "code",
   "execution_count": null,
   "metadata": {},
   "outputs": [],
   "source": []
  },
  {
   "cell_type": "markdown",
   "metadata": {},
   "source": [
    "### Problem 4"
   ]
  },
  {
   "cell_type": "markdown",
   "metadata": {},
   "source": [
    "Find all flights that departed in the summer (June, July, August, September)."
   ]
  },
  {
   "cell_type": "code",
   "execution_count": null,
   "metadata": {},
   "outputs": [],
   "source": []
  },
  {
   "cell_type": "markdown",
   "metadata": {},
   "source": [
    "### Problem 5"
   ]
  },
  {
   "cell_type": "markdown",
   "metadata": {},
   "source": [
    "Find all flights that arrived more than 2 hours late, but didn't leave late."
   ]
  },
  {
   "cell_type": "code",
   "execution_count": null,
   "metadata": {},
   "outputs": [],
   "source": []
  },
  {
   "cell_type": "markdown",
   "metadata": {},
   "source": [
    "### Problem 6"
   ]
  },
  {
   "cell_type": "markdown",
   "metadata": {},
   "source": [
    "Find all flights that departed in the morning (before 1200) *or* in the evening (after 1800) on July 19. "
   ]
  },
  {
   "cell_type": "code",
   "execution_count": null,
   "metadata": {},
   "outputs": [],
   "source": []
  },
  {
   "cell_type": "markdown",
   "metadata": {
    "tags": []
   },
   "source": [
    "### Problem 7"
   ]
  },
  {
   "cell_type": "markdown",
   "metadata": {
    "tags": []
   },
   "source": [
    "Find all flights that were delayed by at least an hour, but made up over 30 minutes in flight.\n",
    "\n",
    "*Hint.* You can use arithmetic operators (`+`, `-`, `*`, `/`) in combination with comparison operators directly in `.query()`."
   ]
  },
  {
   "cell_type": "code",
   "execution_count": null,
   "metadata": {},
   "outputs": [],
   "source": []
  },
  {
   "cell_type": "markdown",
   "metadata": {
    "tags": []
   },
   "source": [
    "### Problem 8"
   ]
  },
  {
   "cell_type": "markdown",
   "metadata": {
    "tags": []
   },
   "source": [
    "How many flights have a missing departure time? What other variables are missing for these flights? What might these rows represent?"
   ]
  },
  {
   "cell_type": "code",
   "execution_count": null,
   "metadata": {},
   "outputs": [],
   "source": []
  },
  {
   "cell_type": "markdown",
   "metadata": {},
   "source": [
    "*Write your answer here. Double-click to edit.*"
   ]
  },
  {
   "cell_type": "markdown",
   "metadata": {},
   "source": [
    "<hr style=\"border-top: 2px solid gray; margin-top: 1px; margin-bottom: 1px\"></hr>"
   ]
  },
  {
   "cell_type": "markdown",
   "metadata": {},
   "source": [
    "## Notes and sources"
   ]
  },
  {
   "cell_type": "markdown",
   "metadata": {},
   "source": [
    "- From the [Pandas User Guide](https://pandas.pydata.org/docs/user_guide/index.html):\n",
    "    - [The query method](https://pandas.pydata.org/pandas-docs/stable/user_guide/indexing.html#the-query-method)"
   ]
  },
  {
   "cell_type": "markdown",
   "metadata": {},
   "source": [
    "- Lesson and problems inspired by Chapter 5 of [R for Data Science](https://r4ds.had.co.nz/)"
   ]
  }
 ],
 "metadata": {
  "kernelspec": {
   "display_name": "Python 3 (ipykernel)",
   "language": "python",
   "name": "python3"
  },
  "language_info": {
   "codemirror_mode": {
    "name": "ipython",
    "version": 3
   },
   "file_extension": ".py",
   "mimetype": "text/x-python",
   "name": "python",
   "nbconvert_exporter": "python",
   "pygments_lexer": "ipython3",
   "version": "3.11.3"
  }
 },
 "nbformat": 4,
 "nbformat_minor": 4
}
